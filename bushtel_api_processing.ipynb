{
 "cells": [
  {
   "cell_type": "code",
   "execution_count": 1,
   "metadata": {
    "collapsed": true
   },
   "outputs": [],
   "source": [
    "import requests\n",
    "import json\n",
    "import pandas as pd\n",
    "import geopandas as gpd\n",
    "\n"
   ]
  },
  {
   "cell_type": "code",
   "execution_count": null,
   "metadata": {
    "collapsed": true
   },
   "outputs": [],
   "source": []
  },
  {
   "cell_type": "code",
   "execution_count": null,
   "metadata": {
    "collapsed": true
   },
   "outputs": [],
   "source": []
  },
  {
   "cell_type": "code",
   "execution_count": 19,
   "metadata": {},
   "outputs": [],
   "source": [
    "def get_community_geodataframe(community_id):\n",
    "    url = \"http://www.bushtel.nt.gov.au/api/Lot?communityIds={0}\".format(str(community_id))\n",
    "    r = requests.get(url)\n",
    "    j = json.loads(r.content.decode())\n",
    "    for item in j:\n",
    "        item['Bounds'] = json.loads(item['Bounds'])\n",
    "    \n",
    "    for item in j:\n",
    "        item['geometry'] = item['Bounds']\n",
    "    \n",
    "    return j"
   ]
  },
  {
   "cell_type": "code",
   "execution_count": 20,
   "metadata": {
    "collapsed": true
   },
   "outputs": [],
   "source": [
    "t = get_community_geodataframe(500)"
   ]
  },
  {
   "cell_type": "code",
   "execution_count": 21,
   "metadata": {},
   "outputs": [],
   "source": [
    "df = pd.DataFrame( t[0] )\n"
   ]
  },
  {
   "cell_type": "code",
   "execution_count": 22,
   "metadata": {},
   "outputs": [],
   "source": [
    "gdf = gpd.GeoDataFrame( df )\n"
   ]
  },
  {
   "cell_type": "code",
   "execution_count": 23,
   "metadata": {},
   "outputs": [
    {
     "data": {
      "text/html": [
       "<div>\n",
       "<style>\n",
       "    .dataframe thead tr:only-child th {\n",
       "        text-align: right;\n",
       "    }\n",
       "\n",
       "    .dataframe thead th {\n",
       "        text-align: left;\n",
       "    }\n",
       "\n",
       "    .dataframe tbody tr th {\n",
       "        vertical-align: top;\n",
       "    }\n",
       "</style>\n",
       "<table border=\"1\" class=\"dataframe\">\n",
       "  <thead>\n",
       "    <tr style=\"text-align: right;\">\n",
       "      <th></th>\n",
       "      <th>Assets</th>\n",
       "      <th>Bounds</th>\n",
       "      <th>CommunityId</th>\n",
       "      <th>CommunityName</th>\n",
       "      <th>CommunityTypeId</th>\n",
       "      <th>CommunityTypeName</th>\n",
       "      <th>CommunityTypeSortOrder</th>\n",
       "      <th>ElectorateBoundaryId</th>\n",
       "      <th>ElectorateName</th>\n",
       "      <th>Id</th>\n",
       "      <th>...</th>\n",
       "      <th>LaisCode</th>\n",
       "      <th>LotNumber</th>\n",
       "      <th>LotTypeId</th>\n",
       "      <th>LtoCode</th>\n",
       "      <th>ShireBoundaryId</th>\n",
       "      <th>ShireName</th>\n",
       "      <th>StreetAddress</th>\n",
       "      <th>WardBoundaryId</th>\n",
       "      <th>WardName</th>\n",
       "      <th>geometry</th>\n",
       "    </tr>\n",
       "  </thead>\n",
       "  <tbody>\n",
       "    <tr>\n",
       "      <th>coordinates</th>\n",
       "      <td>None</td>\n",
       "      <td>[[[135.80511453, -12.50317213], [135.80563276,...</td>\n",
       "      <td>500.0</td>\n",
       "      <td>GAPUWIYAK</td>\n",
       "      <td>5.0</td>\n",
       "      <td>Major</td>\n",
       "      <td>1</td>\n",
       "      <td>72.0</td>\n",
       "      <td>ARNHEM</td>\n",
       "      <td>11471.0</td>\n",
       "      <td>...</td>\n",
       "      <td>294     00095</td>\n",
       "      <td>95.0</td>\n",
       "      <td>1.0</td>\n",
       "      <td></td>\n",
       "      <td>97.0</td>\n",
       "      <td>EAST ARNHEM</td>\n",
       "      <td>13                     BAMBINAMIRRI</td>\n",
       "      <td>115.0</td>\n",
       "      <td>GUMURR MIYARRKA</td>\n",
       "      <td>[[[135.80511453, -12.50317213], [135.80563276,...</td>\n",
       "    </tr>\n",
       "    <tr>\n",
       "      <th>type</th>\n",
       "      <td>None</td>\n",
       "      <td>Polygon</td>\n",
       "      <td>500.0</td>\n",
       "      <td>GAPUWIYAK</td>\n",
       "      <td>5.0</td>\n",
       "      <td>Major</td>\n",
       "      <td>1</td>\n",
       "      <td>72.0</td>\n",
       "      <td>ARNHEM</td>\n",
       "      <td>11471.0</td>\n",
       "      <td>...</td>\n",
       "      <td>294     00095</td>\n",
       "      <td>95.0</td>\n",
       "      <td>1.0</td>\n",
       "      <td></td>\n",
       "      <td>97.0</td>\n",
       "      <td>EAST ARNHEM</td>\n",
       "      <td>13                     BAMBINAMIRRI</td>\n",
       "      <td>115.0</td>\n",
       "      <td>GUMURR MIYARRKA</td>\n",
       "      <td>Polygon</td>\n",
       "    </tr>\n",
       "  </tbody>\n",
       "</table>\n",
       "<p>2 rows × 22 columns</p>\n",
       "</div>"
      ],
      "text/plain": [
       "            Assets                                             Bounds  \\\n",
       "coordinates   None  [[[135.80511453, -12.50317213], [135.80563276,...   \n",
       "type          None                                            Polygon   \n",
       "\n",
       "             CommunityId CommunityName  CommunityTypeId CommunityTypeName  \\\n",
       "coordinates        500.0     GAPUWIYAK              5.0             Major   \n",
       "type               500.0     GAPUWIYAK              5.0             Major   \n",
       "\n",
       "             CommunityTypeSortOrder  ElectorateBoundaryId ElectorateName  \\\n",
       "coordinates                       1                  72.0         ARNHEM   \n",
       "type                              1                  72.0         ARNHEM   \n",
       "\n",
       "                  Id                        ...                          \\\n",
       "coordinates  11471.0                        ...                           \n",
       "type         11471.0                        ...                           \n",
       "\n",
       "                    LaisCode  LotNumber LotTypeId  LtoCode  ShireBoundaryId  \\\n",
       "coordinates  294     00095         95.0       1.0                      97.0   \n",
       "type         294     00095         95.0       1.0                      97.0   \n",
       "\n",
       "               ShireName                        StreetAddress WardBoundaryId  \\\n",
       "coordinates  EAST ARNHEM  13                     BAMBINAMIRRI          115.0   \n",
       "type         EAST ARNHEM  13                     BAMBINAMIRRI          115.0   \n",
       "\n",
       "                    WardName  \\\n",
       "coordinates  GUMURR MIYARRKA   \n",
       "type         GUMURR MIYARRKA   \n",
       "\n",
       "                                                      geometry  \n",
       "coordinates  [[[135.80511453, -12.50317213], [135.80563276,...  \n",
       "type                                                   Polygon  \n",
       "\n",
       "[2 rows x 22 columns]"
      ]
     },
     "execution_count": 23,
     "metadata": {},
     "output_type": "execute_result"
    }
   ],
   "source": [
    "gdf"
   ]
  },
  {
   "cell_type": "code",
   "execution_count": 24,
   "metadata": {},
   "outputs": [
    {
     "ename": "ValueError",
     "evalue": "Geometry column cannot contain mutiple geometry types when writing to file.",
     "output_type": "error",
     "traceback": [
      "\u001b[1;31m---------------------------------------------------------------------------\u001b[0m",
      "\u001b[1;31mValueError\u001b[0m                                Traceback (most recent call last)",
      "\u001b[1;32m<ipython-input-24-1078eadfd7ae>\u001b[0m in \u001b[0;36m<module>\u001b[1;34m()\u001b[0m\n\u001b[1;32m----> 1\u001b[1;33m \u001b[0mgdf\u001b[0m\u001b[1;33m.\u001b[0m\u001b[0mto_file\u001b[0m\u001b[1;33m(\u001b[0m\u001b[0mfilename\u001b[0m\u001b[1;33m=\u001b[0m\u001b[1;34m'output.json'\u001b[0m\u001b[1;33m)\u001b[0m\u001b[1;33m\u001b[0m\u001b[0m\n\u001b[0m",
      "\u001b[1;32mC:\\Users\\jaytu\\Anaconda3\\lib\\site-packages\\geopandas\\geodataframe.py\u001b[0m in \u001b[0;36mto_file\u001b[1;34m(self, filename, driver, schema, **kwargs)\u001b[0m\n\u001b[0;32m    341\u001b[0m         \"\"\"\n\u001b[0;32m    342\u001b[0m         \u001b[1;32mfrom\u001b[0m \u001b[0mgeopandas\u001b[0m\u001b[1;33m.\u001b[0m\u001b[0mio\u001b[0m\u001b[1;33m.\u001b[0m\u001b[0mfile\u001b[0m \u001b[1;32mimport\u001b[0m \u001b[0mto_file\u001b[0m\u001b[1;33m\u001b[0m\u001b[0m\n\u001b[1;32m--> 343\u001b[1;33m         \u001b[0mto_file\u001b[0m\u001b[1;33m(\u001b[0m\u001b[0mself\u001b[0m\u001b[1;33m,\u001b[0m \u001b[0mfilename\u001b[0m\u001b[1;33m,\u001b[0m \u001b[0mdriver\u001b[0m\u001b[1;33m,\u001b[0m \u001b[0mschema\u001b[0m\u001b[1;33m,\u001b[0m \u001b[1;33m**\u001b[0m\u001b[0mkwargs\u001b[0m\u001b[1;33m)\u001b[0m\u001b[1;33m\u001b[0m\u001b[0m\n\u001b[0m\u001b[0;32m    344\u001b[0m \u001b[1;33m\u001b[0m\u001b[0m\n\u001b[0;32m    345\u001b[0m     \u001b[1;32mdef\u001b[0m \u001b[0mto_crs\u001b[0m\u001b[1;33m(\u001b[0m\u001b[0mself\u001b[0m\u001b[1;33m,\u001b[0m \u001b[0mcrs\u001b[0m\u001b[1;33m=\u001b[0m\u001b[1;32mNone\u001b[0m\u001b[1;33m,\u001b[0m \u001b[0mepsg\u001b[0m\u001b[1;33m=\u001b[0m\u001b[1;32mNone\u001b[0m\u001b[1;33m,\u001b[0m \u001b[0minplace\u001b[0m\u001b[1;33m=\u001b[0m\u001b[1;32mFalse\u001b[0m\u001b[1;33m)\u001b[0m\u001b[1;33m:\u001b[0m\u001b[1;33m\u001b[0m\u001b[0m\n",
      "\u001b[1;32mC:\\Users\\jaytu\\Anaconda3\\lib\\site-packages\\geopandas\\io\\file.py\u001b[0m in \u001b[0;36mto_file\u001b[1;34m(df, filename, driver, schema, **kwargs)\u001b[0m\n\u001b[0;32m     56\u001b[0m     \"\"\"\n\u001b[0;32m     57\u001b[0m     \u001b[1;32mif\u001b[0m \u001b[0mschema\u001b[0m \u001b[1;32mis\u001b[0m \u001b[1;32mNone\u001b[0m\u001b[1;33m:\u001b[0m\u001b[1;33m\u001b[0m\u001b[0m\n\u001b[1;32m---> 58\u001b[1;33m         \u001b[0mschema\u001b[0m \u001b[1;33m=\u001b[0m \u001b[0minfer_schema\u001b[0m\u001b[1;33m(\u001b[0m\u001b[0mdf\u001b[0m\u001b[1;33m)\u001b[0m\u001b[1;33m\u001b[0m\u001b[0m\n\u001b[0m\u001b[0;32m     59\u001b[0m     \u001b[0mfilename\u001b[0m \u001b[1;33m=\u001b[0m \u001b[0mos\u001b[0m\u001b[1;33m.\u001b[0m\u001b[0mpath\u001b[0m\u001b[1;33m.\u001b[0m\u001b[0mabspath\u001b[0m\u001b[1;33m(\u001b[0m\u001b[0mos\u001b[0m\u001b[1;33m.\u001b[0m\u001b[0mpath\u001b[0m\u001b[1;33m.\u001b[0m\u001b[0mexpanduser\u001b[0m\u001b[1;33m(\u001b[0m\u001b[0mfilename\u001b[0m\u001b[1;33m)\u001b[0m\u001b[1;33m)\u001b[0m\u001b[1;33m\u001b[0m\u001b[0m\n\u001b[0;32m     60\u001b[0m     with fiona.open(filename, 'w', driver=driver, crs=df.crs,\n",
      "\u001b[1;32mC:\\Users\\jaytu\\Anaconda3\\lib\\site-packages\\geopandas\\io\\file.py\u001b[0m in \u001b[0;36minfer_schema\u001b[1;34m(df)\u001b[0m\n\u001b[0;32m     85\u001b[0m     \u001b[0mgeom_type\u001b[0m \u001b[1;33m=\u001b[0m \u001b[0m_common_geom_type\u001b[0m\u001b[1;33m(\u001b[0m\u001b[0mdf\u001b[0m\u001b[1;33m)\u001b[0m\u001b[1;33m\u001b[0m\u001b[0m\n\u001b[0;32m     86\u001b[0m     \u001b[1;32mif\u001b[0m \u001b[1;32mnot\u001b[0m \u001b[0mgeom_type\u001b[0m\u001b[1;33m:\u001b[0m\u001b[1;33m\u001b[0m\u001b[0m\n\u001b[1;32m---> 87\u001b[1;33m         raise ValueError(\"Geometry column cannot contain mutiple \"\n\u001b[0m\u001b[0;32m     88\u001b[0m                          \"geometry types when writing to file.\")\n\u001b[0;32m     89\u001b[0m \u001b[1;33m\u001b[0m\u001b[0m\n",
      "\u001b[1;31mValueError\u001b[0m: Geometry column cannot contain mutiple geometry types when writing to file."
     ]
    }
   ],
   "source": [
    "gdf.to_file(filename='output.json')"
   ]
  },
  {
   "cell_type": "code",
   "execution_count": null,
   "metadata": {
    "collapsed": true
   },
   "outputs": [],
   "source": []
  }
 ],
 "metadata": {
  "kernelspec": {
   "display_name": "Python 3",
   "language": "python",
   "name": "python3"
  },
  "language_info": {
   "codemirror_mode": {
    "name": "ipython",
    "version": 3
   },
   "file_extension": ".py",
   "mimetype": "text/x-python",
   "name": "python",
   "nbconvert_exporter": "python",
   "pygments_lexer": "ipython3",
   "version": "3.6.1"
  }
 },
 "nbformat": 4,
 "nbformat_minor": 2
}
